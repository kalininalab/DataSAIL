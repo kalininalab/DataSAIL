{
 "cells": [
  {
   "cell_type": "markdown",
   "source": [
    "# Split Tox21 with Stratification\n",
    "\n",
    "In this notebook, we will split the Tox21 dataset using stratification. We will use the `e_strat` keyword and split the dataset into 2 splits. Therefore, we first import all necessary tools."
   ],
   "metadata": {
    "collapsed": false
   }
  },
  {
   "cell_type": "code",
   "execution_count": 1,
   "outputs": [],
   "source": [
    "%%capture\n",
    "import deepchem as dc\n",
    "from datasail.sail import datasail"
   ],
   "metadata": {
    "collapsed": false
   }
  },
  {
   "cell_type": "markdown",
   "source": [
    "### Load Tox21 Dataset\n",
    "\n",
    "We will load the Tox21 dataset and convert it to a pandas dataframe. We will then rename the columns to match the sub-challenge names of Tox21 and reduce the dataframe to the one target we are interested in, which is the `SR-ARE` target."
   ],
   "metadata": {
    "collapsed": false
   }
  },
  {
   "cell_type": "code",
   "execution_count": 2,
   "outputs": [
    {
     "data": {
      "text/plain": "              ID                                             SMILES  SR-ARE\n0     Comp000001                       CCOc1ccc2nc(S(N)(=O)=O)sc2c1     1.0\n1     Comp000002                          CCN1C(=O)NC(c2ccccc2)C1=O     0.0\n2     Comp000003  CC[C@]1(O)CC[C@H]2[C@@H]3CCC4=CCCC[C@@H]4[C@H]...     0.0\n3     Comp000004                    CCCN(CC)C(CC)C(=O)Nc1c(C)cccc1C     0.0\n4     Comp000005                          CC(O)(P(=O)(O)O)P(=O)(O)O     0.0\n...          ...                                                ...     ...\n7826  Comp007827  CCOc1nc2cccc(C(=O)O)c2n1Cc1ccc(-c2ccccc2-c2nnn...     0.0\n7827  Comp007828  CC(=O)[C@H]1CC[C@H]2[C@@H]3CCC4=CC(=O)CC[C@]4(...     0.0\n7828  Comp007829  C[C@]12CC[C@H]3[C@@H](CCC4=CC(=O)CC[C@@]43C)[C...     1.0\n7829  Comp007830  C[C@]12CC[C@@H]3c4ccc(O)cc4CC[C@H]3[C@@H]1CC[C...     0.0\n7830  Comp007831            COc1ccc2c(c1OC)CN1CCc3cc4c(cc3C1C2)OCO4     0.0\n\n[7831 rows x 3 columns]",
      "text/html": "<div>\n<style scoped>\n    .dataframe tbody tr th:only-of-type {\n        vertical-align: middle;\n    }\n\n    .dataframe tbody tr th {\n        vertical-align: top;\n    }\n\n    .dataframe thead th {\n        text-align: right;\n    }\n</style>\n<table border=\"1\" class=\"dataframe\">\n  <thead>\n    <tr style=\"text-align: right;\">\n      <th></th>\n      <th>ID</th>\n      <th>SMILES</th>\n      <th>SR-ARE</th>\n    </tr>\n  </thead>\n  <tbody>\n    <tr>\n      <th>0</th>\n      <td>Comp000001</td>\n      <td>CCOc1ccc2nc(S(N)(=O)=O)sc2c1</td>\n      <td>1.0</td>\n    </tr>\n    <tr>\n      <th>1</th>\n      <td>Comp000002</td>\n      <td>CCN1C(=O)NC(c2ccccc2)C1=O</td>\n      <td>0.0</td>\n    </tr>\n    <tr>\n      <th>2</th>\n      <td>Comp000003</td>\n      <td>CC[C@]1(O)CC[C@H]2[C@@H]3CCC4=CCCC[C@@H]4[C@H]...</td>\n      <td>0.0</td>\n    </tr>\n    <tr>\n      <th>3</th>\n      <td>Comp000004</td>\n      <td>CCCN(CC)C(CC)C(=O)Nc1c(C)cccc1C</td>\n      <td>0.0</td>\n    </tr>\n    <tr>\n      <th>4</th>\n      <td>Comp000005</td>\n      <td>CC(O)(P(=O)(O)O)P(=O)(O)O</td>\n      <td>0.0</td>\n    </tr>\n    <tr>\n      <th>...</th>\n      <td>...</td>\n      <td>...</td>\n      <td>...</td>\n    </tr>\n    <tr>\n      <th>7826</th>\n      <td>Comp007827</td>\n      <td>CCOc1nc2cccc(C(=O)O)c2n1Cc1ccc(-c2ccccc2-c2nnn...</td>\n      <td>0.0</td>\n    </tr>\n    <tr>\n      <th>7827</th>\n      <td>Comp007828</td>\n      <td>CC(=O)[C@H]1CC[C@H]2[C@@H]3CCC4=CC(=O)CC[C@]4(...</td>\n      <td>0.0</td>\n    </tr>\n    <tr>\n      <th>7828</th>\n      <td>Comp007829</td>\n      <td>C[C@]12CC[C@H]3[C@@H](CCC4=CC(=O)CC[C@@]43C)[C...</td>\n      <td>1.0</td>\n    </tr>\n    <tr>\n      <th>7829</th>\n      <td>Comp007830</td>\n      <td>C[C@]12CC[C@@H]3c4ccc(O)cc4CC[C@H]3[C@@H]1CC[C...</td>\n      <td>0.0</td>\n    </tr>\n    <tr>\n      <th>7830</th>\n      <td>Comp007831</td>\n      <td>COc1ccc2c(c1OC)CN1CCc3cc4c(cc3C1C2)OCO4</td>\n      <td>0.0</td>\n    </tr>\n  </tbody>\n</table>\n<p>7831 rows × 3 columns</p>\n</div>"
     },
     "execution_count": 2,
     "metadata": {},
     "output_type": "execute_result"
    }
   ],
   "source": [
    "dataset = dc.molnet.load_tox21(featurizer=dc.feat.DummyFeaturizer(), splitter=None)[1][0]\n",
    "df = dataset.to_dataframe()\n",
    "name_map = dict([(f\"y{i + 1}\", task) for i, task in enumerate(dataset.tasks)] + [(\"y\", dataset.tasks[0]), (\"X\", \"SMILES\")])\n",
    "df.rename(columns=name_map, inplace=True)\n",
    "df.rename(columns=dict([(\"y\", dataset.tasks[0]), (\"X\", \"SMILES\")]), inplace=True)\n",
    "df[\"ID\"] = [f\"Comp{i + 1:06d}\" for i in range(len(df))]\n",
    "df = df[[\"ID\", \"SMILES\", \"SR-ARE\"]]\n",
    "df"
   ],
   "metadata": {
    "collapsed": false
   }
  },
  {
   "cell_type": "markdown",
   "source": [
    "### Run DataSAIL\n",
    "\n",
    "Use DataSAIL to split the data into an identity-based single cold split (I1e) and a cluster-based single cold split (C1e). We define\n",
    "  - the techniques as list: C1e\n",
    "    The e in the end is important to split the e-data.\n",
    "  - the spits as list. The values will be normalized to ratios.\n",
    "  - the names as list. Similarly to the list of split sizes, DataSAIL needs names to name the splits.\n",
    "  - the number of runs. This will determine how many different splits to compute per technique to compute.\n",
    "  - the solving algorithm for optimizing the final problem formulation.\n",
    "  - the type of the dataset in the first axis.\n",
    "  - the data as mapping from IDs to SMILES strings.\n",
    "  - a mapping of sample names to the stratification target values.\n",
    "\n",
    "For an extensive description of the arguments please refer to the according pages of the documentation.\n",
    "\n",
    "Given there exist files storing the data and distance as described in the documentation, the according call to DataSAIL in the commandline would be:\n",
    "```bash\n",
    "$ datasail -t C1e -s 8 2 -n train test -r 3 --solver SCIP --e-type M --e-data <filepath> --e-strat <filepath>\n",
    "```"
   ],
   "metadata": {
    "collapsed": false
   }
  },
  {
   "cell_type": "code",
   "execution_count": 3,
   "outputs": [],
   "source": [
    "%%capture\n",
    "e_splits, _, _ = datasail(\n",
    "    techniques=[\"C1e\"],\n",
    "    splits=[8, 2],\n",
    "    names=[\"train\", \"test\"],\n",
    "    runs=3,\n",
    "    solver=\"SCIP\",\n",
    "    e_type=\"M\",\n",
    "    e_data=dict(df[[\"ID\", \"SMILES\"]].values.tolist()),\n",
    "    e_strat=dict(df[[\"ID\", \"SR-ARE\"]].values.tolist()),\n",
    ")"
   ],
   "metadata": {
    "collapsed": false
   }
  },
  {
   "cell_type": "markdown",
   "source": [
    "### The output\n",
    "\n",
    "Finally, we inspect the e_split object as this holds all the assignments of the datapoints to the splits, for each run and each technique. First, the overall architecture is described, lastly we look at the first five assignments of the C1 run 0."
   ],
   "metadata": {
    "collapsed": false
   }
  },
  {
   "cell_type": "code",
   "execution_count": 4,
   "outputs": [
    {
     "name": "stdout",
     "output_type": "stream",
     "text": [
      "<class 'dict'>\n",
      "C1e - Type: <class 'list'> - Length: 3\n",
      "\tRun 1 - Type: <class 'dict'> - 7827 assignments\n",
      "\tRun 2 - Type: <class 'dict'> - 7827 assignments\n",
      "\tRun 3 - Type: <class 'dict'> - 7827 assignments\n",
      "\n",
      "ID: Comp000001 - Split: train\n",
      "ID: Comp000002 - Split: train\n",
      "ID: Comp000003 - Split: test\n",
      "ID: Comp000004 - Split: train\n",
      "ID: Comp000005 - Split: test\n"
     ]
    }
   ],
   "source": [
    "print(type(e_splits))\n",
    "for key in e_splits.keys():\n",
    "    print(f\"{key} - Type: {type(e_splits[key])} - Length: {len(e_splits[key])}\")\n",
    "    for run in range(len(e_splits[key])):\n",
    "        print(f\"\\tRun {run + 1} - Type: {type(e_splits[key][run])} - {len(e_splits[key][run])} assignments\")\n",
    "print(\"\\n\" + \"\\n\".join(f\"ID: {idx} - Split: {split}\" for idx, split in list(e_splits[key][0].items())[:5]))"
   ],
   "metadata": {
    "collapsed": false
   }
  },
  {
   "cell_type": "code",
   "execution_count": 4,
   "outputs": [],
   "source": [],
   "metadata": {
    "collapsed": false
   }
  }
 ],
 "metadata": {
  "kernelspec": {
   "display_name": "Python 3",
   "language": "python",
   "name": "python3"
  },
  "language_info": {
   "codemirror_mode": {
    "name": "ipython",
    "version": 2
   },
   "file_extension": ".py",
   "mimetype": "text/x-python",
   "name": "python",
   "nbconvert_exporter": "python",
   "pygments_lexer": "ipython2",
   "version": "2.7.6"
  }
 },
 "nbformat": 4,
 "nbformat_minor": 0
}
