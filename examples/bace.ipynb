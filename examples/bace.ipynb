{
 "cells": [
  {
   "cell_type": "markdown",
   "metadata": {},
   "source": [
    "# Split BACE by Weight\n",
    "\n",
    "In this example notebook, we will discuss how to use DataSAIL to compute split for the BACE dataset to compute more challenging splits for machine learning models. Therefore, we first import all necessary tools."
   ]
  },
  {
   "cell_type": "code",
   "execution_count": 1,
   "metadata": {},
   "outputs": [],
   "source": [
    "%%capture\n",
    "import deepchem as dc\n",
    "import numpy as np\n",
    "from rdkit import Chem\n",
    "from rdkit.Chem.Descriptors import ExactMolWt\n",
    "from datasail.sail import datasail"
   ]
  },
  {
   "cell_type": "markdown",
   "metadata": {},
   "source": [
    "### Load the Dataset\n",
    "\n",
    "Load the dataset from deepchem. As BACE is a classification dataset, we rename the columns of the dataset during preprocessing. Furthermore, we remove the weights. Finally, we also convert all RDKit molecules to SMILES strings."
   ]
  },
  {
   "cell_type": "code",
   "execution_count": 2,
   "metadata": {},
   "outputs": [
    {
     "data": {
      "text/plain": "              ID                                             SMILES  Class\n0     Comp000001  O1CC[C@@H](NC(=O)[C@@H](Cc2cc3cc(ccc3nc2N)-c2c...    1.0\n1     Comp000002  Fc1cc(cc(F)c1)C[C@H](NC(=O)[C@@H](N1CC[C@](NC(...    1.0\n2     Comp000003  S1(=O)(=O)N(c2cc(cc3c2n(cc3CC)CC1)C(=O)N[C@H](...    1.0\n3     Comp000004  S1(=O)(=O)C[C@@H](Cc2cc(O[C@H](COCC)C(F)(F)F)c...    1.0\n4     Comp000005  S1(=O)(=O)N(c2cc(cc3c2n(cc3CC)CC1)C(=O)N[C@H](...    1.0\n...          ...                                                ...    ...\n1508  Comp001509          Clc1cc2nc(n(c2cc1)C(CC(=O)NCC1CCOCC1)CC)N    0.0\n1509  Comp001510          Clc1cc2nc(n(c2cc1)C(CC(=O)NCc1ncccc1)CC)N    0.0\n1510  Comp001511             Brc1cc(ccc1)C1CC1C=1N=C(N)N(C)C(=O)C=1    0.0\n1511  Comp001512       O=C1N(C)C(=NC(=C1)C1CC1c1cc(ccc1)-c1ccccc1)N    0.0\n1512  Comp001513                Clc1cc2nc(n(c2cc1)CCCC(=O)NCC1CC1)N    0.0\n\n[1513 rows x 3 columns]",
      "text/html": "<div>\n<style scoped>\n    .dataframe tbody tr th:only-of-type {\n        vertical-align: middle;\n    }\n\n    .dataframe tbody tr th {\n        vertical-align: top;\n    }\n\n    .dataframe thead th {\n        text-align: right;\n    }\n</style>\n<table border=\"1\" class=\"dataframe\">\n  <thead>\n    <tr style=\"text-align: right;\">\n      <th></th>\n      <th>ID</th>\n      <th>SMILES</th>\n      <th>Class</th>\n    </tr>\n  </thead>\n  <tbody>\n    <tr>\n      <th>0</th>\n      <td>Comp000001</td>\n      <td>O1CC[C@@H](NC(=O)[C@@H](Cc2cc3cc(ccc3nc2N)-c2c...</td>\n      <td>1.0</td>\n    </tr>\n    <tr>\n      <th>1</th>\n      <td>Comp000002</td>\n      <td>Fc1cc(cc(F)c1)C[C@H](NC(=O)[C@@H](N1CC[C@](NC(...</td>\n      <td>1.0</td>\n    </tr>\n    <tr>\n      <th>2</th>\n      <td>Comp000003</td>\n      <td>S1(=O)(=O)N(c2cc(cc3c2n(cc3CC)CC1)C(=O)N[C@H](...</td>\n      <td>1.0</td>\n    </tr>\n    <tr>\n      <th>3</th>\n      <td>Comp000004</td>\n      <td>S1(=O)(=O)C[C@@H](Cc2cc(O[C@H](COCC)C(F)(F)F)c...</td>\n      <td>1.0</td>\n    </tr>\n    <tr>\n      <th>4</th>\n      <td>Comp000005</td>\n      <td>S1(=O)(=O)N(c2cc(cc3c2n(cc3CC)CC1)C(=O)N[C@H](...</td>\n      <td>1.0</td>\n    </tr>\n    <tr>\n      <th>...</th>\n      <td>...</td>\n      <td>...</td>\n      <td>...</td>\n    </tr>\n    <tr>\n      <th>1508</th>\n      <td>Comp001509</td>\n      <td>Clc1cc2nc(n(c2cc1)C(CC(=O)NCC1CCOCC1)CC)N</td>\n      <td>0.0</td>\n    </tr>\n    <tr>\n      <th>1509</th>\n      <td>Comp001510</td>\n      <td>Clc1cc2nc(n(c2cc1)C(CC(=O)NCc1ncccc1)CC)N</td>\n      <td>0.0</td>\n    </tr>\n    <tr>\n      <th>1510</th>\n      <td>Comp001511</td>\n      <td>Brc1cc(ccc1)C1CC1C=1N=C(N)N(C)C(=O)C=1</td>\n      <td>0.0</td>\n    </tr>\n    <tr>\n      <th>1511</th>\n      <td>Comp001512</td>\n      <td>O=C1N(C)C(=NC(=C1)C1CC1c1cc(ccc1)-c1ccccc1)N</td>\n      <td>0.0</td>\n    </tr>\n    <tr>\n      <th>1512</th>\n      <td>Comp001513</td>\n      <td>Clc1cc2nc(n(c2cc1)CCCC(=O)NCC1CC1)N</td>\n      <td>0.0</td>\n    </tr>\n  </tbody>\n</table>\n<p>1513 rows × 3 columns</p>\n</div>"
     },
     "execution_count": 2,
     "metadata": {},
     "output_type": "execute_result"
    }
   ],
   "source": [
    "dataset = dc.molnet.load_bace_classification(featurizer=dc.feat.DummyFeaturizer(), splitter=None)[1][0]\n",
    "df = dataset.to_dataframe()\n",
    "df.rename(columns=dict([(\"y\", dataset.tasks[0]), (\"X\", \"SMILES\")]), inplace=True)\n",
    "df[\"ID\"] = [f\"Comp{i + 1:06d}\" for i in range(len(df))]\n",
    "df = df[[\"ID\", \"SMILES\"] + dataset.tasks.tolist()]\n",
    "df"
   ]
  },
  {
   "cell_type": "markdown",
   "metadata": {},
   "source": [
    "### Run DataSAIL\n",
    "\n",
    "Use DataSAIL to split the data into an identity-based single cold split (I1e) and a cluster-based single cold split (C1e). We define\n",
    "  - the techniques as list: I1e abd C1e\n",
    "    The e in the end is important to split the e-data.\n",
    "  - the spits as list. The values will be normalized to ratios.\n",
    "  - the names as list. Similarly to the list of split sizes, DataSAIL needs names to name the splits.\n",
    "  - the number of runs. This will determine how many different splits to compute per technique to compute.\n",
    "  - the solving algorithm for optimizing the final problem formulation.\n",
    "  - the type of the dataset in the first axis.\n",
    "  - the data as mapping from IDs to SMILES strings.\n",
    "  - a distance metric based on the molecular weights. Therefore, we compute the matrix of pairwise weight differences between the molecules.\n",
    "  \n",
    "For an extensive description of the arguments please refer to the according pages of the documentation."
   ]
  },
  {
   "cell_type": "code",
   "execution_count": 3,
   "metadata": {
    "scrolled": true
   },
   "outputs": [],
   "source": [
    "%%capture\n",
    "# Compute the distance matrix of the weights for each pair of molecule\n",
    "weights = [ExactMolWt(Chem.MolFromSmiles(s)) for s in df[\"SMILES\"].values.tolist()]\n",
    "dist_mat = np.zeros((len(weights), len(weights)))\n",
    "for i in range(len(weights)):\n",
    "    for j in range(i + 1, len(weights)):\n",
    "        dist_mat[i, j] = dist_mat[j, i] = abs(weights[i] - weights[j])\n",
    "dist_mat /= np.max(dist_mat)\n",
    "\n",
    "# Use this matrix together with a list of names (i.e. the ids of the molecules in order of the matrix) as distance metric in DataSAIL.\n",
    "e_splits, f_splits, inter_splits = datasail(\n",
    "    techniques=[\"I1e\", \"C1e\"],\n",
    "    splits=[7, 2, 1],\n",
    "    names=[\"train\", \"val\", \"test\"],\n",
    "    runs=3,\n",
    "    solver=\"SCIP\",\n",
    "    e_type=\"M\",\n",
    "    e_data=dict(df[[\"ID\", \"SMILES\"]].values.tolist()),\n",
    "    e_dist=(df[\"ID\"].values.tolist(), dist_mat),\n",
    ")"
   ]
  },
  {
   "cell_type": "markdown",
   "metadata": {},
   "source": [
    "## The output\n",
    "\n",
    "Finally, we inspect the e_split object as this holds all the assignments of the datapoints to the splits, for each run and each technique. First, the overall architecture is described, lastly we look at the first five assignments of the C1 run 0."
   ]
  },
  {
   "cell_type": "code",
   "execution_count": 4,
   "metadata": {},
   "outputs": [
    {
     "name": "stdout",
     "output_type": "stream",
     "text": [
      "<class 'dict'>\n",
      "I1e - Type: <class 'list'> - Length: 3\n",
      "\tRun 1 - Type: <class 'dict'> - 1513 assignments\n",
      "\tRun 2 - Type: <class 'dict'> - 1513 assignments\n",
      "\tRun 3 - Type: <class 'dict'> - 1513 assignments\n",
      "C1e - Type: <class 'list'> - Length: 3\n",
      "\tRun 1 - Type: <class 'dict'> - 1513 assignments\n",
      "\tRun 2 - Type: <class 'dict'> - 1513 assignments\n",
      "\tRun 3 - Type: <class 'dict'> - 1513 assignments\n",
      "\n",
      "ID: Comp000001 - Split: train\n",
      "ID: Comp000002 - Split: train\n",
      "ID: Comp000003 - Split: train\n",
      "ID: Comp000004 - Split: train\n",
      "ID: Comp000005 - Split: train\n"
     ]
    }
   ],
   "source": [
    "print(type(e_splits))\n",
    "for key in e_splits.keys():\n",
    "    print(f\"{key} - Type: {type(e_splits[key])} - Length: {len(e_splits[key])}\")\n",
    "    for run in range(len(e_splits[key])):\n",
    "        print(f\"\\tRun {run + 1} - Type: {type(e_splits[key][run])} - {len(e_splits[key][run])} assignments\")\n",
    "print(\"\\n\" + \"\\n\".join(f\"ID: {idx} - Split: {split}\" for idx, split in list(e_splits[key][0].items())[:5]))"
   ]
  }
 ],
 "metadata": {
  "kernelspec": {
   "display_name": "Python 3 (ipykernel)",
   "language": "python",
   "name": "python3"
  },
  "language_info": {
   "codemirror_mode": {
    "name": "ipython",
    "version": 3
   },
   "file_extension": ".py",
   "mimetype": "text/x-python",
   "name": "python",
   "nbconvert_exporter": "python",
   "pygments_lexer": "ipython3",
   "version": "3.10.0"
  }
 },
 "nbformat": 4,
 "nbformat_minor": 1
}
